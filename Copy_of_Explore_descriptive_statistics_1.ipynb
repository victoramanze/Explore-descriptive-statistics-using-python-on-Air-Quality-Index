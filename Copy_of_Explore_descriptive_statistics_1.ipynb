{
  "nbformat": 4,
  "nbformat_minor": 0,
  "metadata": {
    "colab": {
      "provenance": [],
      "toc_visible": true
    },
    "kernelspec": {
      "name": "python3",
      "display_name": "Python 3"
    },
    "language_info": {
      "name": "python"
    }
  },
  "cells": [
    {
      "cell_type": "markdown",
      "source": [
        "As an analyst you are tasked to just analyze the data on air pollutions with respect to carbon mono-oxide .  After the last analysis on finding the state with high level pollution in need of Oxygen support now some stake holders wants better understanding of the dataset and you need to analyze it."
      ],
      "metadata": {
        "id": "m9suA2LTM12x"
      }
    },
    {
      "cell_type": "markdown",
      "source": [
        "This will be a series of projects on statistical skills using python so i will be posting onstatistical python for my next few projects and all beginners friendly for tgose trying to get into data science this can be a great start on your journey"
      ],
      "metadata": {
        "id": "PYoZS143N98H"
      }
    },
    {
      "cell_type": "markdown",
      "source": [
        "first we start by importin relevant libraries and functions for analysis"
      ],
      "metadata": {
        "id": "yEGOpPY3PGyo"
      }
    },
    {
      "cell_type": "code",
      "execution_count": null,
      "metadata": {
        "id": "a-em_mqvMLhm"
      },
      "outputs": [],
      "source": [
        "import pandas as pd\n",
        "import numpy as np"
      ]
    },
    {
      "cell_type": "markdown",
      "source": [
        "now we load the dataset into the dataframe .\n",
        "the dataset provided is in a csv format named C4 epa air dataset which contains subsets of data from the enviromental protection agency"
      ],
      "metadata": {
        "id": "AgpdbrDnQmUn"
      }
    },
    {
      "cell_type": "markdown",
      "source": [
        "now we load dataromthe .csv file into the dataframe and ave it as a variable"
      ],
      "metadata": {
        "id": "NotAe8ftQ7Wk"
      }
    },
    {
      "cell_type": "code",
      "source": [
        "epa_data = pd.read_csv(\"c4 epa air dataset.csv\", index_col = 0)"
      ],
      "metadata": {
        "id": "OWql44B2R0ir"
      },
      "execution_count": null,
      "outputs": []
    },
    {
      "cell_type": "markdown",
      "source": [
        "now we explore the data"
      ],
      "metadata": {
        "id": "7j691zXJSHc2"
      }
    },
    {
      "cell_type": "markdown",
      "source": [
        "To understand how the dataset is structured, display the first 10 rows of the data."
      ],
      "metadata": {
        "id": "5x1NSQ6bSRZZ"
      }
    },
    {
      "cell_type": "code",
      "source": [
        "epa_data.head(10)"
      ],
      "metadata": {
        "colab": {
          "base_uri": "https://localhost:8080/",
          "height": 476
        },
        "id": "OqaJ1yibSJ_j",
        "outputId": "d4535084-ef10-4989-f1b8-0b09048e1ae7"
      },
      "execution_count": null,
      "outputs": [
        {
          "output_type": "execute_result",
          "data": {
            "text/plain": [
              "   date_local    state_name   county_name      city_name  \\\n",
              "0  2018-01-01       Arizona      Maricopa        Buckeye   \n",
              "1  2018-01-01          Ohio       Belmont      Shadyside   \n",
              "2  2018-01-01       Wyoming         Teton  Not in a city   \n",
              "3  2018-01-01  Pennsylvania  Philadelphia   Philadelphia   \n",
              "4  2018-01-01          Iowa          Polk     Des Moines   \n",
              "5  2018-01-01        Hawaii      Honolulu  Not in a city   \n",
              "6  2018-01-01        Hawaii      Honolulu  Not in a city   \n",
              "7  2018-01-01  Pennsylvania          Erie           Erie   \n",
              "8  2018-01-01        Hawaii      Honolulu       Honolulu   \n",
              "9  2018-01-01      Colorado       Larimer   Fort Collins   \n",
              "\n",
              "                                     local_site_name   parameter_name  \\\n",
              "0                                            BUCKEYE  Carbon monoxide   \n",
              "1                                          Shadyside  Carbon monoxide   \n",
              "2  Yellowstone National Park - Old Faithful Snow ...  Carbon monoxide   \n",
              "3                             North East Waste (NEW)  Carbon monoxide   \n",
              "4                                          CARPENTER  Carbon monoxide   \n",
              "5                                            Kapolei  Carbon monoxide   \n",
              "6                                            Kapolei  Carbon monoxide   \n",
              "7                                                NaN  Carbon monoxide   \n",
              "8                                           Honolulu  Carbon monoxide   \n",
              "9                      Fort Collins - CSU - S. Mason  Carbon monoxide   \n",
              "\n",
              "    units_of_measure  arithmetic_mean  aqi  \n",
              "0  Parts per million         0.473684    7  \n",
              "1  Parts per million         0.263158    5  \n",
              "2  Parts per million         0.111111    2  \n",
              "3  Parts per million         0.300000    3  \n",
              "4  Parts per million         0.215789    3  \n",
              "5  Parts per million         0.994737   14  \n",
              "6  Parts per million         0.200000    2  \n",
              "7  Parts per million         0.200000    2  \n",
              "8  Parts per million         0.400000    5  \n",
              "9  Parts per million         0.300000    6  "
            ],
            "text/html": [
              "\n",
              "  <div id=\"df-03a56a47-986a-47fe-aa03-02995e5d4299\">\n",
              "    <div class=\"colab-df-container\">\n",
              "      <div>\n",
              "<style scoped>\n",
              "    .dataframe tbody tr th:only-of-type {\n",
              "        vertical-align: middle;\n",
              "    }\n",
              "\n",
              "    .dataframe tbody tr th {\n",
              "        vertical-align: top;\n",
              "    }\n",
              "\n",
              "    .dataframe thead th {\n",
              "        text-align: right;\n",
              "    }\n",
              "</style>\n",
              "<table border=\"1\" class=\"dataframe\">\n",
              "  <thead>\n",
              "    <tr style=\"text-align: right;\">\n",
              "      <th></th>\n",
              "      <th>date_local</th>\n",
              "      <th>state_name</th>\n",
              "      <th>county_name</th>\n",
              "      <th>city_name</th>\n",
              "      <th>local_site_name</th>\n",
              "      <th>parameter_name</th>\n",
              "      <th>units_of_measure</th>\n",
              "      <th>arithmetic_mean</th>\n",
              "      <th>aqi</th>\n",
              "    </tr>\n",
              "  </thead>\n",
              "  <tbody>\n",
              "    <tr>\n",
              "      <th>0</th>\n",
              "      <td>2018-01-01</td>\n",
              "      <td>Arizona</td>\n",
              "      <td>Maricopa</td>\n",
              "      <td>Buckeye</td>\n",
              "      <td>BUCKEYE</td>\n",
              "      <td>Carbon monoxide</td>\n",
              "      <td>Parts per million</td>\n",
              "      <td>0.473684</td>\n",
              "      <td>7</td>\n",
              "    </tr>\n",
              "    <tr>\n",
              "      <th>1</th>\n",
              "      <td>2018-01-01</td>\n",
              "      <td>Ohio</td>\n",
              "      <td>Belmont</td>\n",
              "      <td>Shadyside</td>\n",
              "      <td>Shadyside</td>\n",
              "      <td>Carbon monoxide</td>\n",
              "      <td>Parts per million</td>\n",
              "      <td>0.263158</td>\n",
              "      <td>5</td>\n",
              "    </tr>\n",
              "    <tr>\n",
              "      <th>2</th>\n",
              "      <td>2018-01-01</td>\n",
              "      <td>Wyoming</td>\n",
              "      <td>Teton</td>\n",
              "      <td>Not in a city</td>\n",
              "      <td>Yellowstone National Park - Old Faithful Snow ...</td>\n",
              "      <td>Carbon monoxide</td>\n",
              "      <td>Parts per million</td>\n",
              "      <td>0.111111</td>\n",
              "      <td>2</td>\n",
              "    </tr>\n",
              "    <tr>\n",
              "      <th>3</th>\n",
              "      <td>2018-01-01</td>\n",
              "      <td>Pennsylvania</td>\n",
              "      <td>Philadelphia</td>\n",
              "      <td>Philadelphia</td>\n",
              "      <td>North East Waste (NEW)</td>\n",
              "      <td>Carbon monoxide</td>\n",
              "      <td>Parts per million</td>\n",
              "      <td>0.300000</td>\n",
              "      <td>3</td>\n",
              "    </tr>\n",
              "    <tr>\n",
              "      <th>4</th>\n",
              "      <td>2018-01-01</td>\n",
              "      <td>Iowa</td>\n",
              "      <td>Polk</td>\n",
              "      <td>Des Moines</td>\n",
              "      <td>CARPENTER</td>\n",
              "      <td>Carbon monoxide</td>\n",
              "      <td>Parts per million</td>\n",
              "      <td>0.215789</td>\n",
              "      <td>3</td>\n",
              "    </tr>\n",
              "    <tr>\n",
              "      <th>5</th>\n",
              "      <td>2018-01-01</td>\n",
              "      <td>Hawaii</td>\n",
              "      <td>Honolulu</td>\n",
              "      <td>Not in a city</td>\n",
              "      <td>Kapolei</td>\n",
              "      <td>Carbon monoxide</td>\n",
              "      <td>Parts per million</td>\n",
              "      <td>0.994737</td>\n",
              "      <td>14</td>\n",
              "    </tr>\n",
              "    <tr>\n",
              "      <th>6</th>\n",
              "      <td>2018-01-01</td>\n",
              "      <td>Hawaii</td>\n",
              "      <td>Honolulu</td>\n",
              "      <td>Not in a city</td>\n",
              "      <td>Kapolei</td>\n",
              "      <td>Carbon monoxide</td>\n",
              "      <td>Parts per million</td>\n",
              "      <td>0.200000</td>\n",
              "      <td>2</td>\n",
              "    </tr>\n",
              "    <tr>\n",
              "      <th>7</th>\n",
              "      <td>2018-01-01</td>\n",
              "      <td>Pennsylvania</td>\n",
              "      <td>Erie</td>\n",
              "      <td>Erie</td>\n",
              "      <td>NaN</td>\n",
              "      <td>Carbon monoxide</td>\n",
              "      <td>Parts per million</td>\n",
              "      <td>0.200000</td>\n",
              "      <td>2</td>\n",
              "    </tr>\n",
              "    <tr>\n",
              "      <th>8</th>\n",
              "      <td>2018-01-01</td>\n",
              "      <td>Hawaii</td>\n",
              "      <td>Honolulu</td>\n",
              "      <td>Honolulu</td>\n",
              "      <td>Honolulu</td>\n",
              "      <td>Carbon monoxide</td>\n",
              "      <td>Parts per million</td>\n",
              "      <td>0.400000</td>\n",
              "      <td>5</td>\n",
              "    </tr>\n",
              "    <tr>\n",
              "      <th>9</th>\n",
              "      <td>2018-01-01</td>\n",
              "      <td>Colorado</td>\n",
              "      <td>Larimer</td>\n",
              "      <td>Fort Collins</td>\n",
              "      <td>Fort Collins - CSU - S. Mason</td>\n",
              "      <td>Carbon monoxide</td>\n",
              "      <td>Parts per million</td>\n",
              "      <td>0.300000</td>\n",
              "      <td>6</td>\n",
              "    </tr>\n",
              "  </tbody>\n",
              "</table>\n",
              "</div>\n",
              "      <button class=\"colab-df-convert\" onclick=\"convertToInteractive('df-03a56a47-986a-47fe-aa03-02995e5d4299')\"\n",
              "              title=\"Convert this dataframe to an interactive table.\"\n",
              "              style=\"display:none;\">\n",
              "        \n",
              "  <svg xmlns=\"http://www.w3.org/2000/svg\" height=\"24px\"viewBox=\"0 0 24 24\"\n",
              "       width=\"24px\">\n",
              "    <path d=\"M0 0h24v24H0V0z\" fill=\"none\"/>\n",
              "    <path d=\"M18.56 5.44l.94 2.06.94-2.06 2.06-.94-2.06-.94-.94-2.06-.94 2.06-2.06.94zm-11 1L8.5 8.5l.94-2.06 2.06-.94-2.06-.94L8.5 2.5l-.94 2.06-2.06.94zm10 10l.94 2.06.94-2.06 2.06-.94-2.06-.94-.94-2.06-.94 2.06-2.06.94z\"/><path d=\"M17.41 7.96l-1.37-1.37c-.4-.4-.92-.59-1.43-.59-.52 0-1.04.2-1.43.59L10.3 9.45l-7.72 7.72c-.78.78-.78 2.05 0 2.83L4 21.41c.39.39.9.59 1.41.59.51 0 1.02-.2 1.41-.59l7.78-7.78 2.81-2.81c.8-.78.8-2.07 0-2.86zM5.41 20L4 18.59l7.72-7.72 1.47 1.35L5.41 20z\"/>\n",
              "  </svg>\n",
              "      </button>\n",
              "      \n",
              "  <style>\n",
              "    .colab-df-container {\n",
              "      display:flex;\n",
              "      flex-wrap:wrap;\n",
              "      gap: 12px;\n",
              "    }\n",
              "\n",
              "    .colab-df-convert {\n",
              "      background-color: #E8F0FE;\n",
              "      border: none;\n",
              "      border-radius: 50%;\n",
              "      cursor: pointer;\n",
              "      display: none;\n",
              "      fill: #1967D2;\n",
              "      height: 32px;\n",
              "      padding: 0 0 0 0;\n",
              "      width: 32px;\n",
              "    }\n",
              "\n",
              "    .colab-df-convert:hover {\n",
              "      background-color: #E2EBFA;\n",
              "      box-shadow: 0px 1px 2px rgba(60, 64, 67, 0.3), 0px 1px 3px 1px rgba(60, 64, 67, 0.15);\n",
              "      fill: #174EA6;\n",
              "    }\n",
              "\n",
              "    [theme=dark] .colab-df-convert {\n",
              "      background-color: #3B4455;\n",
              "      fill: #D2E3FC;\n",
              "    }\n",
              "\n",
              "    [theme=dark] .colab-df-convert:hover {\n",
              "      background-color: #434B5C;\n",
              "      box-shadow: 0px 1px 3px 1px rgba(0, 0, 0, 0.15);\n",
              "      filter: drop-shadow(0px 1px 2px rgba(0, 0, 0, 0.3));\n",
              "      fill: #FFFFFF;\n",
              "    }\n",
              "  </style>\n",
              "\n",
              "      <script>\n",
              "        const buttonEl =\n",
              "          document.querySelector('#df-03a56a47-986a-47fe-aa03-02995e5d4299 button.colab-df-convert');\n",
              "        buttonEl.style.display =\n",
              "          google.colab.kernel.accessAllowed ? 'block' : 'none';\n",
              "\n",
              "        async function convertToInteractive(key) {\n",
              "          const element = document.querySelector('#df-03a56a47-986a-47fe-aa03-02995e5d4299');\n",
              "          const dataTable =\n",
              "            await google.colab.kernel.invokeFunction('convertToInteractive',\n",
              "                                                     [key], {});\n",
              "          if (!dataTable) return;\n",
              "\n",
              "          const docLinkHtml = 'Like what you see? Visit the ' +\n",
              "            '<a target=\"_blank\" href=https://colab.research.google.com/notebooks/data_table.ipynb>data table notebook</a>'\n",
              "            + ' to learn more about interactive tables.';\n",
              "          element.innerHTML = '';\n",
              "          dataTable['output_type'] = 'display_data';\n",
              "          await google.colab.output.renderOutput(dataTable, element);\n",
              "          const docLink = document.createElement('div');\n",
              "          docLink.innerHTML = docLinkHtml;\n",
              "          element.appendChild(docLink);\n",
              "        }\n",
              "      </script>\n",
              "    </div>\n",
              "  </div>\n",
              "  "
            ]
          },
          "metadata": {},
          "execution_count": 3
        }
      ]
    },
    {
      "cell_type": "markdown",
      "source": [
        "let us recall that the aqi column represents the EPA'S Air quality index and are measured in parts per millions , per the unit of measure column"
      ],
      "metadata": {
        "id": "IJ3zfyu-Sql6"
      }
    },
    {
      "cell_type": "markdown",
      "source": [
        "now we get a descriptive stats."
      ],
      "metadata": {
        "id": "5SQRnyddTAwx"
      }
    },
    {
      "cell_type": "code",
      "source": [
        "epa_data.describe()"
      ],
      "metadata": {
        "colab": {
          "base_uri": "https://localhost:8080/",
          "height": 300
        },
        "id": "397rtZK2TpCD",
        "outputId": "e69ebdee-1a78-44f4-8748-b33ea502a619"
      },
      "execution_count": null,
      "outputs": [
        {
          "output_type": "execute_result",
          "data": {
            "text/plain": [
              "       arithmetic_mean         aqi\n",
              "count       260.000000  260.000000\n",
              "mean          0.403169    6.757692\n",
              "std           0.317902    7.061707\n",
              "min           0.000000    0.000000\n",
              "25%           0.200000    2.000000\n",
              "50%           0.276315    5.000000\n",
              "75%           0.516009    9.000000\n",
              "max           1.921053   50.000000"
            ],
            "text/html": [
              "\n",
              "  <div id=\"df-70538435-626c-4874-9cf3-2dc6fb08ba4c\">\n",
              "    <div class=\"colab-df-container\">\n",
              "      <div>\n",
              "<style scoped>\n",
              "    .dataframe tbody tr th:only-of-type {\n",
              "        vertical-align: middle;\n",
              "    }\n",
              "\n",
              "    .dataframe tbody tr th {\n",
              "        vertical-align: top;\n",
              "    }\n",
              "\n",
              "    .dataframe thead th {\n",
              "        text-align: right;\n",
              "    }\n",
              "</style>\n",
              "<table border=\"1\" class=\"dataframe\">\n",
              "  <thead>\n",
              "    <tr style=\"text-align: right;\">\n",
              "      <th></th>\n",
              "      <th>arithmetic_mean</th>\n",
              "      <th>aqi</th>\n",
              "    </tr>\n",
              "  </thead>\n",
              "  <tbody>\n",
              "    <tr>\n",
              "      <th>count</th>\n",
              "      <td>260.000000</td>\n",
              "      <td>260.000000</td>\n",
              "    </tr>\n",
              "    <tr>\n",
              "      <th>mean</th>\n",
              "      <td>0.403169</td>\n",
              "      <td>6.757692</td>\n",
              "    </tr>\n",
              "    <tr>\n",
              "      <th>std</th>\n",
              "      <td>0.317902</td>\n",
              "      <td>7.061707</td>\n",
              "    </tr>\n",
              "    <tr>\n",
              "      <th>min</th>\n",
              "      <td>0.000000</td>\n",
              "      <td>0.000000</td>\n",
              "    </tr>\n",
              "    <tr>\n",
              "      <th>25%</th>\n",
              "      <td>0.200000</td>\n",
              "      <td>2.000000</td>\n",
              "    </tr>\n",
              "    <tr>\n",
              "      <th>50%</th>\n",
              "      <td>0.276315</td>\n",
              "      <td>5.000000</td>\n",
              "    </tr>\n",
              "    <tr>\n",
              "      <th>75%</th>\n",
              "      <td>0.516009</td>\n",
              "      <td>9.000000</td>\n",
              "    </tr>\n",
              "    <tr>\n",
              "      <th>max</th>\n",
              "      <td>1.921053</td>\n",
              "      <td>50.000000</td>\n",
              "    </tr>\n",
              "  </tbody>\n",
              "</table>\n",
              "</div>\n",
              "      <button class=\"colab-df-convert\" onclick=\"convertToInteractive('df-70538435-626c-4874-9cf3-2dc6fb08ba4c')\"\n",
              "              title=\"Convert this dataframe to an interactive table.\"\n",
              "              style=\"display:none;\">\n",
              "        \n",
              "  <svg xmlns=\"http://www.w3.org/2000/svg\" height=\"24px\"viewBox=\"0 0 24 24\"\n",
              "       width=\"24px\">\n",
              "    <path d=\"M0 0h24v24H0V0z\" fill=\"none\"/>\n",
              "    <path d=\"M18.56 5.44l.94 2.06.94-2.06 2.06-.94-2.06-.94-.94-2.06-.94 2.06-2.06.94zm-11 1L8.5 8.5l.94-2.06 2.06-.94-2.06-.94L8.5 2.5l-.94 2.06-2.06.94zm10 10l.94 2.06.94-2.06 2.06-.94-2.06-.94-.94-2.06-.94 2.06-2.06.94z\"/><path d=\"M17.41 7.96l-1.37-1.37c-.4-.4-.92-.59-1.43-.59-.52 0-1.04.2-1.43.59L10.3 9.45l-7.72 7.72c-.78.78-.78 2.05 0 2.83L4 21.41c.39.39.9.59 1.41.59.51 0 1.02-.2 1.41-.59l7.78-7.78 2.81-2.81c.8-.78.8-2.07 0-2.86zM5.41 20L4 18.59l7.72-7.72 1.47 1.35L5.41 20z\"/>\n",
              "  </svg>\n",
              "      </button>\n",
              "      \n",
              "  <style>\n",
              "    .colab-df-container {\n",
              "      display:flex;\n",
              "      flex-wrap:wrap;\n",
              "      gap: 12px;\n",
              "    }\n",
              "\n",
              "    .colab-df-convert {\n",
              "      background-color: #E8F0FE;\n",
              "      border: none;\n",
              "      border-radius: 50%;\n",
              "      cursor: pointer;\n",
              "      display: none;\n",
              "      fill: #1967D2;\n",
              "      height: 32px;\n",
              "      padding: 0 0 0 0;\n",
              "      width: 32px;\n",
              "    }\n",
              "\n",
              "    .colab-df-convert:hover {\n",
              "      background-color: #E2EBFA;\n",
              "      box-shadow: 0px 1px 2px rgba(60, 64, 67, 0.3), 0px 1px 3px 1px rgba(60, 64, 67, 0.15);\n",
              "      fill: #174EA6;\n",
              "    }\n",
              "\n",
              "    [theme=dark] .colab-df-convert {\n",
              "      background-color: #3B4455;\n",
              "      fill: #D2E3FC;\n",
              "    }\n",
              "\n",
              "    [theme=dark] .colab-df-convert:hover {\n",
              "      background-color: #434B5C;\n",
              "      box-shadow: 0px 1px 3px 1px rgba(0, 0, 0, 0.15);\n",
              "      filter: drop-shadow(0px 1px 2px rgba(0, 0, 0, 0.3));\n",
              "      fill: #FFFFFF;\n",
              "    }\n",
              "  </style>\n",
              "\n",
              "      <script>\n",
              "        const buttonEl =\n",
              "          document.querySelector('#df-70538435-626c-4874-9cf3-2dc6fb08ba4c button.colab-df-convert');\n",
              "        buttonEl.style.display =\n",
              "          google.colab.kernel.accessAllowed ? 'block' : 'none';\n",
              "\n",
              "        async function convertToInteractive(key) {\n",
              "          const element = document.querySelector('#df-70538435-626c-4874-9cf3-2dc6fb08ba4c');\n",
              "          const dataTable =\n",
              "            await google.colab.kernel.invokeFunction('convertToInteractive',\n",
              "                                                     [key], {});\n",
              "          if (!dataTable) return;\n",
              "\n",
              "          const docLinkHtml = 'Like what you see? Visit the ' +\n",
              "            '<a target=\"_blank\" href=https://colab.research.google.com/notebooks/data_table.ipynb>data table notebook</a>'\n",
              "            + ' to learn more about interactive tables.';\n",
              "          element.innerHTML = '';\n",
              "          dataTable['output_type'] = 'display_data';\n",
              "          await google.colab.output.renderOutput(dataTable, element);\n",
              "          const docLink = document.createElement('div');\n",
              "          docLink.innerHTML = docLinkHtml;\n",
              "          element.appendChild(docLink);\n",
              "        }\n",
              "      </script>\n",
              "    </div>\n",
              "  </div>\n",
              "  "
            ]
          },
          "metadata": {},
          "execution_count": 4
        }
      ]
    },
    {
      "cell_type": "markdown",
      "source": [
        "  Now we notice that count value for the aqi column s 260 .\n",
        "  That means there are 260 aqi measurements represented in the dataset"
      ],
      "metadata": {
        "id": "fYBphLxXUKe4"
      }
    },
    {
      "cell_type": "markdown",
      "source": [
        "Now let us make sure we take note of the 25th percentile\n",
        "Noticing that the 25th percentile is 2. This means that 25% of the aqi values in the data are below 2 parts per million."
      ],
      "metadata": {
        "id": "t2kU64liUcf8"
      }
    },
    {
      "cell_type": "markdown",
      "source": [
        "What about the 75th percentile which is 9 .This means that 75% of the aqi values in the data are below 9 parts per million"
      ],
      "metadata": {
        "id": "9BQEeV6gVBRJ"
      }
    },
    {
      "cell_type": "markdown",
      "source": [
        "now we start taking the statistical test\n",
        "\n",
        "we start by getting some descriptive statistics about the states in the data"
      ],
      "metadata": {
        "id": "ge52EWteWVf1"
      }
    },
    {
      "cell_type": "code",
      "source": [
        "epa_data[\"state_name\"].describe()"
      ],
      "metadata": {
        "colab": {
          "base_uri": "https://localhost:8080/"
        },
        "id": "JMFa75ZgVn0v",
        "outputId": "6931f1b5-f1dd-4eee-946f-02116825daac"
      },
      "execution_count": null,
      "outputs": [
        {
          "output_type": "execute_result",
          "data": {
            "text/plain": [
              "count            260\n",
              "unique            52\n",
              "top       California\n",
              "freq              66\n",
              "Name: state_name, dtype: object"
            ]
          },
          "metadata": {},
          "execution_count": 5
        }
      ]
    },
    {
      "cell_type": "markdown",
      "source": [
        "#Note:\n",
        " Sometimes you have to individually calculate statistics. To review to that approach, use the numpy library to calculate each of the main statistics in the above table for the aqi column.\n",
        "\n",
        "There are 260 state values, and 52 of them are unique. California is the most commonly occurring state in the data, with a frequency of 66. (In other words, 66 entries in the data correspond to aqi measurements taken in California.)"
      ],
      "metadata": {
        "id": "0Y331crVXvgB"
      }
    },
    {
      "cell_type": "markdown",
      "source": [
        "Now let us look into the result and evaluate this analysis\n",
        "\n",
        "first we compute the mean value from the aqi column"
      ],
      "metadata": {
        "id": "pGgwCYj9XyoF"
      }
    },
    {
      "cell_type": "code",
      "source": [
        "np.mean(epa_data[\"aqi\"])"
      ],
      "metadata": {
        "colab": {
          "base_uri": "https://localhost:8080/"
        },
        "id": "cBDAf1MoYQSD",
        "outputId": "60665420-b054-4d3c-895c-527953e6beed"
      },
      "execution_count": null,
      "outputs": [
        {
          "output_type": "execute_result",
          "data": {
            "text/plain": [
              "6.757692307692308"
            ]
          },
          "metadata": {},
          "execution_count": 8
        }
      ]
    },
    {
      "cell_type": "markdown",
      "source": [
        "This is an important measure as it tells you what the average air quality is based on the data.\n",
        "\n",
        "The mean value for the aqi column is approximately 6.76 (rounding to 2 decimal places here). This means that the average aqi from the data is approximately 6.76 parts per million.\n",
        "\n"
      ],
      "metadata": {
        "id": "MUIvJ6ZZaQvH"
      }
    },
    {
      "cell_type": "markdown",
      "source": [
        "next we compute the median alue from the aqi column"
      ],
      "metadata": {
        "id": "wfZFThB4acpx"
      }
    },
    {
      "cell_type": "code",
      "source": [
        "np.median(epa_data[\"aqi\"])"
      ],
      "metadata": {
        "colab": {
          "base_uri": "https://localhost:8080/"
        },
        "id": "qitM1ldRannQ",
        "outputId": "5f4669f9-1f78-431a-f9e1-49d21082cd42"
      },
      "execution_count": null,
      "outputs": [
        {
          "output_type": "execute_result",
          "data": {
            "text/plain": [
              "5.0"
            ]
          },
          "metadata": {},
          "execution_count": 7
        }
      ]
    },
    {
      "cell_type": "markdown",
      "source": [
        "This is also an important measure for understanding the central location of the data.\n",
        "\n",
        "The median value for the aqi column is 5.0. This means that half of the aqi values in the data are below 5 parts per million."
      ],
      "metadata": {
        "id": "Au-FOOVVbZS5"
      }
    },
    {
      "cell_type": "markdown",
      "source": [
        "#Next,\n",
        " identify the minimum value from the aqi column."
      ],
      "metadata": {
        "id": "QBHB7XVubbNl"
      }
    },
    {
      "cell_type": "code",
      "source": [
        "np.min(epa_data[\"aqi\"])"
      ],
      "metadata": {
        "colab": {
          "base_uri": "https://localhost:8080/"
        },
        "id": "ABVWc7Szbhqy",
        "outputId": "0dd0df3e-b792-450d-d221-ea92a6c86953"
      },
      "execution_count": null,
      "outputs": [
        {
          "output_type": "execute_result",
          "data": {
            "text/plain": [
              "0"
            ]
          },
          "metadata": {},
          "execution_count": 9
        }
      ]
    },
    {
      "cell_type": "markdown",
      "source": [
        "This is also  an important measure, as it tell you the best air quality observed in the data.\n",
        "\n",
        "The minimum value for the aqi column is 0. This means that the smallest aqi value in the data is 0 parts per million."
      ],
      "metadata": {
        "id": "aTuWQcpfb9lB"
      }
    },
    {
      "cell_type": "markdown",
      "source": [
        "#Now,\n",
        "identify the maximum value from the aqi column."
      ],
      "metadata": {
        "id": "XS06V95tb_Ue"
      }
    },
    {
      "cell_type": "code",
      "source": [
        "np.max(epa_data[\"aqi\"])"
      ],
      "metadata": {
        "colab": {
          "base_uri": "https://localhost:8080/"
        },
        "id": "3hmjUH2UcHPQ",
        "outputId": "e9bab936-350e-4bd1-fd2f-e8b355731486"
      },
      "execution_count": null,
      "outputs": [
        {
          "output_type": "execute_result",
          "data": {
            "text/plain": [
              "50"
            ]
          },
          "metadata": {},
          "execution_count": 10
        }
      ]
    },
    {
      "cell_type": "markdown",
      "source": [
        "The maximum value for the aqi column is 50. This means that the largest aqi value in the data is 50 parts per million.\n",
        "\n",
        "Now, compute the standard deviation for the aqi column.\n",
        "\n",
        "By default, the numpy library uses 0 as the Delta Degrees of Freedom, while pandas library uses 1. To get the same value for standard deviation using either library, specify the ddof parameter to 1 when calculating standard deviation below."
      ],
      "metadata": {
        "id": "VSEuhI18dZF4"
      }
    },
    {
      "cell_type": "code",
      "source": [
        "np.std(epa_data[\"aqi\"], ddof=1)"
      ],
      "metadata": {
        "colab": {
          "base_uri": "https://localhost:8080/"
        },
        "id": "kPINxSBqdsRE",
        "outputId": "3b7cea0e-3bcd-4195-94a9-f9b2ef80057e"
      },
      "execution_count": null,
      "outputs": [
        {
          "output_type": "execute_result",
          "data": {
            "text/plain": [
              "7.061706678820724"
            ]
          },
          "metadata": {},
          "execution_count": 11
        }
      ]
    },
    {
      "cell_type": "markdown",
      "source": [
        "The standard deviation for the aqi column is approximately 7.05 (rounding to 2 decimal places here). This is a measure of how spread out the aqi values are in the data."
      ],
      "metadata": {
        "id": "LGq5ImejeDx3"
      }
    },
    {
      "cell_type": "markdown",
      "source": [
        "#Considerations"
      ],
      "metadata": {
        "id": "HCZdZuCweKpI"
      }
    },
    {
      "cell_type": "markdown",
      "source": [
        "Functions in the pandas and numpy libraries can be used to find statistics that describe a dataset. The describe() function from pandas generates a table of descriptive statistics about numerical or categorical columns. The mean(), median(), min(), max(), and std() functions from numpy are useful for finding individual statistics about numerical data."
      ],
      "metadata": {
        "id": "PeGTy2EaeN4M"
      }
    },
    {
      "cell_type": "markdown",
      "source": [
        "# This is how you present your findings to stakeholders"
      ],
      "metadata": {
        "id": "j8XvWqyQeSHL"
      }
    },
    {
      "cell_type": "markdown",
      "source": [
        "First you consider the most relevant points noted as you respond.\n",
        "\n",
        "\"AQI values at or below 100 are generally thought of as satisfactory. When AQI values are above 100, air quality is considered to be unhealthy—at first for certain sensitive groups of people, then for everyone as AQI values increase.\"\n",
        "\"An AQI of 100 for carbon monoxide corresponds to a level of 9 parts per million.\""
      ],
      "metadata": {
        "id": "GXVuRiRgem8W"
      }
    },
    {
      "cell_type": "markdown",
      "source": [
        "The average AQI value in the data is approximately 6.76 parts per million, which is considered safe with respect to carbon monoxide. FUrther, 75% of the AQI values are below 9 parts per million, which is the standard for healthy air quality levels in terms of carbon monoxide."
      ],
      "metadata": {
        "id": "C5oZqbQ9fMYM"
      }
    },
    {
      "cell_type": "markdown",
      "source": [
        "Regarding AQI values above 9 parts per million (indicating unhealthy levels of carbon monoxide), an effective presentation would include materials identifing which regions have worse air quality. It would also advise the appropriate team to conduct further research in those regions in order to understand this issue and improve the conditions in those regions. In order to conduct further analysis at a state-level, it would be helpful to collect more data from other states."
      ],
      "metadata": {
        "id": "zMMsYLLHf6CC"
      }
    },
    {
      "cell_type": "markdown",
      "source": [
        "# summary to stakeholders"
      ],
      "metadata": {
        "id": "G6UHG7JGgEIT"
      }
    },
    {
      "cell_type": "markdown",
      "source": [
        "75% of the AQI values in the data are below 9 parts per million, which is the standard for healthy air quality levels in terms of carbon monoxide.\n",
        "Funding should be allocated for further investigation of the regions with unhealthy levels of carbon monoxide in order to learn how to improve the conditions."
      ],
      "metadata": {
        "id": "MHxTBLSGgk8I"
      }
    }
  ]
}